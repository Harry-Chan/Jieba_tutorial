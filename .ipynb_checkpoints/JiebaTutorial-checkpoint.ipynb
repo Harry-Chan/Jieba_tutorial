{
 "cells": [
  {
   "cell_type": "markdown",
   "metadata": {},
   "source": [
    "# Python斷詞套件 - Jieba\n",
    "### Github https://github.com/fxsjy/jieba"
   ]
  },
  {
   "cell_type": "markdown",
   "metadata": {},
   "source": [
    "## Install"
   ]
  },
  {
   "cell_type": "code",
   "execution_count": 1,
   "metadata": {},
   "outputs": [
    {
     "name": "stdout",
     "output_type": "stream",
     "text": [
      "Collecting jieba\n",
      "  Downloading https://files.pythonhosted.org/packages/71/46/c6f9179f73b818d5827202ad1c4a94e371a29473b7f043b736b4dab6b8cd/jieba-0.39.zip (7.3MB)\n",
      "Building wheels for collected packages: jieba\n",
      "  Running setup.py bdist_wheel for jieba: started\n",
      "  Running setup.py bdist_wheel for jieba: finished with status 'done'\n",
      "  Stored in directory: C:\\Users\\user\\AppData\\Local\\pip\\Cache\\wheels\\c9\\c7\\63\\a9ec0322ccc7c365fd51e475942a82395807186e94f0522243\n",
      "Successfully built jieba\n",
      "Installing collected packages: jieba\n",
      "Successfully installed jieba-0.39\n"
     ]
    }
   ],
   "source": [
    "!pip install jieba"
   ]
  },
  {
   "cell_type": "markdown",
   "metadata": {
    "collapsed": true
   },
   "source": [
    "# Usage"
   ]
  },
  {
   "cell_type": "code",
   "execution_count": 1,
   "metadata": {
    "collapsed": true
   },
   "outputs": [],
   "source": [
    "import jieba"
   ]
  },
  {
   "cell_type": "markdown",
   "metadata": {},
   "source": [
    "### 引入繁體中文詞庫"
   ]
  },
  {
   "cell_type": "code",
   "execution_count": 2,
   "metadata": {},
   "outputs": [
    {
     "name": "stderr",
     "output_type": "stream",
     "text": [
      "Building prefix dict from C:\\Users\\user\\Desktop\\Jieba_tutorial\\dict\\dict.txt.big ...\n",
      "Loading model from cache C:\\Users\\user\\AppData\\Local\\Temp\\jieba.u498e95ed41e4fd344030a1a51d0d33a0.cache\n",
      "Loading model cost 1.331 seconds.\n",
      "Prefix dict has been built succesfully.\n"
     ]
    }
   ],
   "source": [
    "jieba.initialize('dict/dict.txt.big')"
   ]
  },
  {
   "cell_type": "code",
   "execution_count": 3,
   "metadata": {
    "collapsed": true
   },
   "outputs": [],
   "source": [
    "string = '程瑤迦是江蘇寶應程家的大小姐，曾經跟全真教的「清淨散人」孫不二學武功'"
   ]
  },
  {
   "cell_type": "markdown",
   "metadata": {},
   "source": [
    "### 使用 jieba.lcut() 進行斷詞"
   ]
  },
  {
   "cell_type": "code",
   "execution_count": 4,
   "metadata": {},
   "outputs": [
    {
     "name": "stdout",
     "output_type": "stream",
     "text": [
      "['程瑤迦', '是', '江蘇', '寶應', '程家', '的', '大', '小姐', '，', '曾經', '跟', '全真教', '的', '「', '清淨', '散人', '」', '孫不二', '學武', '功']\n"
     ]
    }
   ],
   "source": [
    "seg_list = jieba.lcut(string)\n",
    "print(seg_list)"
   ]
  },
  {
   "cell_type": "markdown",
   "metadata": {},
   "source": [
    "### 使用 jieba.posseg.lcut() 取得詞性"
   ]
  },
  {
   "cell_type": "code",
   "execution_count": 5,
   "metadata": {
    "collapsed": true
   },
   "outputs": [],
   "source": [
    "import jieba.posseg"
   ]
  },
  {
   "cell_type": "code",
   "execution_count": 6,
   "metadata": {},
   "outputs": [
    {
     "name": "stdout",
     "output_type": "stream",
     "text": [
      "[pair('程瑤迦', 'nr'), pair('是', 'v'), pair('江蘇', 'ns'), pair('寶應', 'n'), pair('程家', 'n'), pair('的', 'uj'), pair('大', 'n'), pair('小姐', 'nr'), pair('，', 'x'), pair('曾經', 'd'), pair('跟', 'p'), pair('全真教', 'nz'), pair('的', 'uj'), pair('「', 'x'), pair('清淨', 'a'), pair('散人', 'n'), pair('」', 'x'), pair('孫不二', 'nr'), pair('學武', 'n'), pair('功', 'n')]\n"
     ]
    }
   ],
   "source": [
    "seg_list3 = jieba.posseg.lcut(string)\n",
    "print(seg_list3)"
   ]
  },
  {
   "cell_type": "markdown",
   "metadata": {},
   "source": [
    "### 詞性列表: https://gist.github.com/luw2007/6016931"
   ]
  },
  {
   "cell_type": "markdown",
   "metadata": {},
   "source": [
    "### 載入自訂的詞庫"
   ]
  },
  {
   "cell_type": "code",
   "execution_count": 11,
   "metadata": {
    "collapsed": true
   },
   "outputs": [],
   "source": [
    "jieba.load_userdict('dict/mydict')"
   ]
  },
  {
   "cell_type": "markdown",
   "metadata": {},
   "source": [
    "![image](https://imgur.com/PVpuQ7a.jpg)"
   ]
  },
  {
   "cell_type": "markdown",
   "metadata": {},
   "source": [
    "                                                    < 詞    詞頻    詞性 >"
   ]
  },
  {
   "cell_type": "code",
   "execution_count": 12,
   "metadata": {},
   "outputs": [
    {
     "name": "stdout",
     "output_type": "stream",
     "text": [
      "['程瑤迦', '是', '江蘇', '寶應', '程家', '的', '大小姐', '，', '曾經', '跟', '全真教', '的', '「', '清淨散人', '」', '孫不二', '學武', '功']\n"
     ]
    }
   ],
   "source": [
    "seg_list2 = jieba.lcut(string)\n",
    "print(seg_list2)"
   ]
  },
  {
   "cell_type": "markdown",
   "metadata": {},
   "source": [
    "### ** \"學武功\"分詞問題 **\n",
    "### 因為 P(學武) \\* P(功) > P(學) \\* P(武功)"
   ]
  },
  {
   "attachments": {},
   "cell_type": "markdown",
   "metadata": {
    "collapsed": true
   },
   "source": [
    "![image](https://imgur.com/DBpFD1I.jpg)"
   ]
  },
  {
   "cell_type": "markdown",
   "metadata": {},
   "source": [
    "### 將\"武功\"詞頻再調高"
   ]
  },
  {
   "cell_type": "markdown",
   "metadata": {},
   "source": [
    "![image](https://imgur.com/tEydjvm.jpg)"
   ]
  },
  {
   "cell_type": "code",
   "execution_count": 13,
   "metadata": {},
   "outputs": [
    {
     "name": "stdout",
     "output_type": "stream",
     "text": [
      "['程瑤迦', '是', '江蘇', '寶應', '程家', '的', '大小姐', '，', '曾經', '跟', '全真教', '的', '「', '清淨散人', '」', '孫不二', '學', '武功']\n"
     ]
    }
   ],
   "source": [
    "jieba.load_userdict('dict/mydict')\n",
    "seg_list2 = jieba.lcut(string)\n",
    "print(seg_list2)"
   ]
  },
  {
   "cell_type": "markdown",
   "metadata": {
    "collapsed": true
   },
   "source": []
  }
 ],
 "metadata": {
  "kernelspec": {
   "display_name": "Python 3",
   "language": "python",
   "name": "python3"
  },
  "language_info": {
   "codemirror_mode": {
    "name": "ipython",
    "version": 3
   },
   "file_extension": ".py",
   "mimetype": "text/x-python",
   "name": "python",
   "nbconvert_exporter": "python",
   "pygments_lexer": "ipython3",
   "version": "3.6.1"
  }
 },
 "nbformat": 4,
 "nbformat_minor": 2
}
